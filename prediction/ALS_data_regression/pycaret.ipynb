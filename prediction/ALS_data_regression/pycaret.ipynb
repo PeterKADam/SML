{
 "cells": [
  {
   "cell_type": "code",
   "execution_count": 1,
   "metadata": {},
   "outputs": [],
   "source": [
    "import pandas as pd\n",
    "import pyreadr\n",
    "\n",
    "# Specify the path to the ALS_progression_rate rds file\n",
    "file_path = 'ALS_progression_rate.1822x370.rds'\n",
    "\n",
    "# Read the rds file into a pandas dataframe\n",
    "r = pyreadr.read_r(file_path)\n",
    "df = r[None]\n"
   ]
  },
  {
   "cell_type": "code",
   "execution_count": 2,
   "metadata": {},
   "outputs": [],
   "source": [
    "df.rename(columns={'dFRS': 'response'}, inplace=True)\n"
   ]
  },
  {
   "cell_type": "code",
   "execution_count": 3,
   "metadata": {},
   "outputs": [
    {
     "name": "stdout",
     "output_type": "stream",
     "text": [
      "(1622, 370)\n",
      "(200, 370)\n"
     ]
    }
   ],
   "source": [
    "# Split the data into training set and prediction set\n",
    "train_set = df[df['response'].notna()]\n",
    "prediction_set = df[df['response'].isna()]\n",
    "\n",
    "print(train_set.shape)\n",
    "print(prediction_set.shape)\n"
   ]
  },
  {
   "cell_type": "code",
   "execution_count": 4,
   "metadata": {},
   "outputs": [],
   "source": [
    "from sklearn.model_selection import train_test_split\n",
    "\n",
    "# Assuming df is your DataFrame, 'response' is your target variable\n",
    "\n",
    "# Split the data into training set and test set\n",
    "train, test  = train_test_split(train_set, test_size=0.2, random_state=42)\n",
    "\n",
    "# Split the data into training+validation set and test set\n",
    "X = train_set.drop('response', axis=1)\n",
    "y = train_set['response']\n",
    "X_train, X_test, y_train, y_test = train_test_split(X, y, test_size=0.05, random_state=42)\n",
    "\n",
    "# Split the training+validation set into training and validation sets"
   ]
  },
  {
   "cell_type": "markdown",
   "metadata": {},
   "source": [
    "pycaret from here"
   ]
  },
  {
   "cell_type": "code",
   "execution_count": null,
   "metadata": {},
   "outputs": [],
   "source": [
    "from pycaret.regression import *\n",
    "s = setup(data = train_set, target ='response',train_size=0.8)"
   ]
  },
  {
   "cell_type": "code",
   "execution_count": null,
   "metadata": {},
   "outputs": [],
   "source": [
    "best = compare_models()"
   ]
  },
  {
   "cell_type": "code",
   "execution_count": null,
   "metadata": {},
   "outputs": [],
   "source": [
    "predict_model(best, data=prediction_set)"
   ]
  },
  {
   "cell_type": "markdown",
   "metadata": {},
   "source": [
    "lazypredict here"
   ]
  },
  {
   "cell_type": "code",
   "execution_count": 6,
   "metadata": {},
   "outputs": [],
   "source": [
    "from lazypredict import LazyRegressor\n",
    "import numpy as np"
   ]
  },
  {
   "cell_type": "code",
   "execution_count": 7,
   "metadata": {},
   "outputs": [
    {
     "name": "stderr",
     "output_type": "stream",
     "text": [
      " 21%|██▏       | 9/42 [00:12<00:56,  1.70s/it]"
     ]
    },
    {
     "name": "stdout",
     "output_type": "stream",
     "text": [
      "GammaRegressor model failed to execute\n",
      "Some value(s) of y are out of the valid range of the loss 'HalfGammaLoss'.\n"
     ]
    },
    {
     "name": "stderr",
     "output_type": "stream",
     "text": [
      " 71%|███████▏  | 30/42 [00:25<00:03,  4.00it/s]"
     ]
    },
    {
     "name": "stdout",
     "output_type": "stream",
     "text": [
      "PoissonRegressor model failed to execute\n",
      "Some value(s) of y are out of the valid range of the loss 'HalfPoissonLoss'.\n"
     ]
    },
    {
     "name": "stderr",
     "output_type": "stream",
     "text": [
      " 98%|█████████▊| 41/42 [00:41<00:00,  1.36it/s]"
     ]
    },
    {
     "name": "stdout",
     "output_type": "stream",
     "text": [
      "[LightGBM] [Info] Auto-choosing col-wise multi-threading, the overhead of testing was 0.004112 seconds.\n",
      "You can set `force_col_wise=true` to remove the overhead.\n",
      "[LightGBM] [Info] Total Bins 28252\n",
      "[LightGBM] [Info] Number of data points in the train set: 1297, number of used features: 338\n",
      "[LightGBM] [Info] Start training from score -0.697527\n"
     ]
    },
    {
     "name": "stderr",
     "output_type": "stream",
     "text": [
      "100%|██████████| 42/42 [00:41<00:00,  1.01it/s]\n"
     ]
    }
   ],
   "source": [
    "reg = LazyRegressor(verbose=0, ignore_warnings=False, custom_metric=None)\n",
    "models, predictions = reg.fit(X_train, X_test, y_train, y_test)"
   ]
  },
  {
   "cell_type": "code",
   "execution_count": 8,
   "metadata": {},
   "outputs": [
    {
     "name": "stdout",
     "output_type": "stream",
     "text": [
      "                                                      Adjusted R-Squared  \\\n",
      "Model                                                                      \n",
      "Lars                          373644788190158921494857795071006212096.00   \n",
      "TransformedTargetRegressor                 15059808942524347258503168.00   \n",
      "LinearRegression                           15059808942524347258503168.00   \n",
      "RANSACRegressor                             3221299539381674905174016.00   \n",
      "SGDRegressor                                                    18011.54   \n",
      "KernelRidge                                                        18.04   \n",
      "GaussianProcessRegressor                                           17.17   \n",
      "MLPRegressor                                                       14.71   \n",
      "ExtraTreeRegressor                                                 14.70   \n",
      "PassiveAggressiveRegressor                                         13.23   \n",
      "DecisionTreeRegressor                                              12.49   \n",
      "LinearSVR                                                           8.54   \n",
      "Ridge                                                               8.40   \n",
      "LassoLars                                                           8.27   \n",
      "ElasticNet                                                          8.27   \n",
      "DummyRegressor                                                      8.27   \n",
      "Lasso                                                               8.27   \n",
      "QuantileRegressor                                                   8.23   \n",
      "HuberRegressor                                                      8.17   \n",
      "KNeighborsRegressor                                                 8.06   \n",
      "RidgeCV                                                             7.72   \n",
      "AdaBoostRegressor                                                   7.55   \n",
      "XGBRegressor                                                        7.46   \n",
      "BaggingRegressor                                                    7.43   \n",
      "LarsCV                                                              7.35   \n",
      "HistGradientBoostingRegressor                                       7.14   \n",
      "LGBMRegressor                                                       7.09   \n",
      "OrthogonalMatchingPursuit                                           7.03   \n",
      "GradientBoostingRegressor                                           7.03   \n",
      "SVR                                                                 6.87   \n",
      "OrthogonalMatchingPursuitCV                                         6.86   \n",
      "NuSVR                                                               6.85   \n",
      "LassoLarsCV                                                         6.81   \n",
      "LassoCV                                                             6.80   \n",
      "TweedieRegressor                                                    6.80   \n",
      "ElasticNetCV                                                        6.79   \n",
      "RandomForestRegressor                                               6.79   \n",
      "LassoLarsIC                                                         6.78   \n",
      "BayesianRidge                                                       6.78   \n",
      "ExtraTreesRegressor                                                 6.75   \n",
      "\n",
      "                                                               R-Squared  \\\n",
      "Model                                                                      \n",
      "Lars                          -51895109470855404713759919788829704192.00   \n",
      "TransformedTargetRegressor                 -2091640130906159251980288.00   \n",
      "LinearRegression                           -2091640130906159251980288.00   \n",
      "RANSACRegressor                             -447402713803010418409472.00   \n",
      "SGDRegressor                                                    -2500.46   \n",
      "KernelRidge                                                        -1.37   \n",
      "GaussianProcessRegressor                                           -1.25   \n",
      "MLPRegressor                                                       -0.90   \n",
      "ExtraTreeRegressor                                                 -0.90   \n",
      "PassiveAggressiveRegressor                                         -0.70   \n",
      "DecisionTreeRegressor                                              -0.60   \n",
      "LinearSVR                                                          -0.05   \n",
      "Ridge                                                              -0.03   \n",
      "LassoLars                                                          -0.01   \n",
      "ElasticNet                                                         -0.01   \n",
      "DummyRegressor                                                     -0.01   \n",
      "Lasso                                                              -0.01   \n",
      "QuantileRegressor                                                  -0.00   \n",
      "HuberRegressor                                                      0.00   \n",
      "KNeighborsRegressor                                                 0.02   \n",
      "RidgeCV                                                             0.07   \n",
      "AdaBoostRegressor                                                   0.09   \n",
      "XGBRegressor                                                        0.10   \n",
      "BaggingRegressor                                                    0.11   \n",
      "LarsCV                                                              0.12   \n",
      "HistGradientBoostingRegressor                                       0.15   \n",
      "LGBMRegressor                                                       0.15   \n",
      "OrthogonalMatchingPursuit                                           0.16   \n",
      "GradientBoostingRegressor                                           0.16   \n",
      "SVR                                                                 0.19   \n",
      "OrthogonalMatchingPursuitCV                                         0.19   \n",
      "NuSVR                                                               0.19   \n",
      "LassoLarsCV                                                         0.19   \n",
      "LassoCV                                                             0.19   \n",
      "TweedieRegressor                                                    0.20   \n",
      "ElasticNetCV                                                        0.20   \n",
      "RandomForestRegressor                                               0.20   \n",
      "LassoLarsIC                                                         0.20   \n",
      "BayesianRidge                                                       0.20   \n",
      "ExtraTreesRegressor                                                 0.20   \n",
      "\n",
      "                                                RMSE  Time Taken  \n",
      "Model                                                             \n",
      "Lars                          4132267527000803840.00        0.14  \n",
      "TransformedTargetRegressor           829599911541.05        0.10  \n",
      "LinearRegression                     829599911541.05        0.11  \n",
      "RANSACRegressor                      383684735181.56        5.20  \n",
      "SGDRegressor                                   28.69        0.02  \n",
      "KernelRidge                                     0.88        0.05  \n",
      "GaussianProcessRegressor                        0.86        0.44  \n",
      "MLPRegressor                                    0.79        0.49  \n",
      "ExtraTreeRegressor                              0.79        0.08  \n",
      "PassiveAggressiveRegressor                      0.75        0.04  \n",
      "DecisionTreeRegressor                           0.72        0.19  \n",
      "LinearSVR                                       0.59        0.54  \n",
      "Ridge                                           0.58        0.02  \n",
      "LassoLars                                       0.58        0.02  \n",
      "ElasticNet                                      0.58        0.02  \n",
      "DummyRegressor                                  0.58        0.02  \n",
      "Lasso                                           0.58        0.02  \n",
      "QuantileRegressor                               0.57        0.28  \n",
      "HuberRegressor                                  0.57        0.20  \n",
      "KNeighborsRegressor                             0.57        0.03  \n",
      "RidgeCV                                         0.55        0.14  \n",
      "AdaBoostRegressor                               0.55        1.15  \n",
      "XGBRegressor                                    0.54        0.53  \n",
      "BaggingRegressor                                0.54        1.02  \n",
      "LarsCV                                          0.54        0.62  \n",
      "HistGradientBoostingRegressor                   0.53        1.39  \n",
      "LGBMRegressor                                   0.53        0.27  \n",
      "OrthogonalMatchingPursuit                       0.53        0.02  \n",
      "GradientBoostingRegressor                       0.52        3.07  \n",
      "SVR                                             0.52        0.16  \n",
      "OrthogonalMatchingPursuitCV                     0.52        0.07  \n",
      "NuSVR                                           0.52        0.17  \n",
      "LassoLarsCV                                     0.52        0.58  \n",
      "LassoCV                                         0.51        4.92  \n",
      "TweedieRegressor                                0.51        0.03  \n",
      "ElasticNetCV                                    0.51        4.49  \n",
      "RandomForestRegressor                           0.51        9.26  \n",
      "LassoLarsIC                                     0.51        0.26  \n",
      "BayesianRidge                                   0.51        0.15  \n",
      "ExtraTreesRegressor                             0.51        5.27  \n"
     ]
    }
   ],
   "source": [
    "print(models)"
   ]
  },
  {
   "cell_type": "markdown",
   "metadata": {},
   "source": [
    "and auto-sklearn, guess were going to loonix"
   ]
  },
  {
   "cell_type": "code",
   "execution_count": 6,
   "metadata": {},
   "outputs": [],
   "source": [
    "from pprint import pprint\n",
    "\n",
    "import sklearn.datasets\n",
    "import sklearn.metrics\n",
    "\n",
    "import autosklearn.regression\n",
    "import matplotlib.pyplot as plt"
   ]
  },
  {
   "cell_type": "code",
   "execution_count": 10,
   "metadata": {},
   "outputs": [
    {
     "data": {
      "text/plain": [
       "AutoSklearnRegressor(ensemble_class=<class 'autosklearn.ensembles.ensemble_selection.EnsembleSelection'>,\n",
       "                     memory_limit=6000, per_run_time_limit=30,\n",
       "                     time_left_for_this_task=120)"
      ]
     },
     "execution_count": 10,
     "metadata": {},
     "output_type": "execute_result"
    }
   ],
   "source": [
    "automl = autosklearn.regression.AutoSklearnRegressor(time_left_for_this_task=120, per_run_time_limit=30, memory_limit=6000)\n",
    "automl.fit(X_train, y_train)"
   ]
  },
  {
   "cell_type": "code",
   "execution_count": 12,
   "metadata": {},
   "outputs": [
    {
     "name": "stdout",
     "output_type": "stream",
     "text": [
      "          rank  ensemble_weight           type      cost   duration\n",
      "model_id                                                           \n",
      "2            1             0.72  random_forest  0.817380  19.335031\n",
      "13           2             0.24    extra_trees  0.828724   3.339578\n",
      "4            3             0.04  liblinear_svr  0.941059   0.314204\n"
     ]
    }
   ],
   "source": [
    "print(automl.leaderboard())"
   ]
  },
  {
   "cell_type": "code",
   "execution_count": 13,
   "metadata": {},
   "outputs": [
    {
     "name": "stdout",
     "output_type": "stream",
     "text": [
      "Train RMSE: 0.3619818565818878\n",
      "Test RMSE: 0.5234378581724037\n"
     ]
    }
   ],
   "source": [
    "from sklearn.metrics import mean_squared_error\n",
    "\n",
    "train_pred = automl.predict(X_train)\n",
    "test_pred = automl.predict(X_test)\n",
    "\n",
    "print(\"Train RMSE:\", mean_squared_error(y_train, train_pred, squared=False))\n",
    "print(\"Test RMSE:\", mean_squared_error(y_test, test_pred, squared=False))"
   ]
  },
  {
   "cell_type": "code",
   "execution_count": 17,
   "metadata": {},
   "outputs": [
    {
     "name": "stdout",
     "output_type": "stream",
     "text": [
      "[WARNING] [2024-04-12 09:32:36,114:Client-EnsembleBuilder] No runs were available to build an ensemble from\n",
      "[WARNING] [2024-04-12 09:32:38,087:Client-EnsembleBuilder] No runs were available to build an ensemble from\n",
      "Before re-fit\n",
      "RMSE score CV 0.5147098301256179\n"
     ]
    }
   ],
   "source": [
    "\n",
    "from sklearn.metrics import mean_squared_error\n",
    "\n",
    "automl = autosklearn.regression.AutoSklearnRegressor(\n",
    "\ttime_left_for_this_task=120,\n",
    "\tper_run_time_limit=30,\n",
    "\tmemory_limit=6000,\n",
    "\ttmp_folder=\"/tmp/autosklearn_resampling_example_tmp\",\n",
    "\tdisable_evaluator_output=False,\n",
    "\tresampling_strategy=\"cv\",\n",
    "\tresampling_strategy_arguments={\"folds\": 10},\n",
    ")\n",
    "automl.fit(X_train, y_train)\n",
    "\n",
    "# One can use models trained during cross-validation directly to predict\n",
    "# for unseen data. For this, all k models trained during k-fold\n",
    "# cross-validation are considered as a single soft-voting ensemble inside\n",
    "# the ensemble constructed with ensemble selection.\n",
    "print(\"Before re-fit\")\n",
    "predictions = automl.predict(X_test)\n",
    "print(\"RMSE score CV\", mean_squared_error(y_test, predictions, squared=False))"
   ]
  },
  {
   "cell_type": "code",
   "execution_count": 19,
   "metadata": {},
   "outputs": [
    {
     "name": "stdout",
     "output_type": "stream",
     "text": [
      "After re-fit\n",
      "RMSE score CV 0.5172109555744472\n"
     ]
    }
   ],
   "source": [
    "print(\"After re-fit\")\n",
    "automl.refit(X_train.copy(), y_train.copy())\n",
    "predictions = automl.predict(X_test)\n",
    "print(\"RMSE score CV\", mean_squared_error(y_test, predictions, squared=False))\n"
   ]
  },
  {
   "cell_type": "code",
   "execution_count": null,
   "metadata": {},
   "outputs": [],
   "source": [
    "scorer =autosklearn.metrics.root_mean_squared_error\n",
    "\n",
    "automl = autosklearn.regression.AutoSklearnRegressor(\n",
    "    time_left_for_this_task=3600*2,  # Increase time limit\n",
    "    per_run_time_limit=1800,  # Increase time limit per run\n",
    "    memory_limit=8000,\n",
    "    tmp_folder=\"/tmp/autosklearn_resampling_example_tmp\",\n",
    "    disable_evaluator_output=False,\n",
    "    resampling_strategy=\"cv\",\n",
    "    resampling_strategy_arguments={\"folds\": 20,\"train_size\":0.95,\"shuffle\":True},\n",
    "\tmetric=scorer  # Increase number of folds\n",
    ")\n",
    "\n",
    "automl.fit(X_train, y_train)\n",
    "\n",
    "\n",
    "\n",
    "#print(\"After re-fit\")\n",
    "#automl.refit(X_train.copy(), y_train.copy())\n",
    "predictions = automl.predict(X_test)\n",
    "print(\"RMSE score CV\", mean_squared_error(y_test, predictions, squared=False))"
   ]
  },
  {
   "cell_type": "code",
   "execution_count": 9,
   "metadata": {},
   "outputs": [
    {
     "name": "stdout",
     "output_type": "stream",
     "text": [
      "RMSE score CV 0.5033208483401808\n"
     ]
    }
   ],
   "source": [
    "\n",
    "from sklearn.metrics import mean_squared_error\n",
    "predictions = automl.predict(X_test)\n",
    "print(\"RMSE score CV\", mean_squared_error(y_test, predictions, squared=False))"
   ]
  },
  {
   "cell_type": "code",
   "execution_count": 28,
   "metadata": {},
   "outputs": [
    {
     "name": "stdout",
     "output_type": "stream",
     "text": [
      "Expected error (mean CV RMSE):  nan\n"
     ]
    },
    {
     "name": "stderr",
     "output_type": "stream",
     "text": [
      "/tmp/ipykernel_17322/2221981772.py:9: RuntimeWarning: invalid value encountered in sqrt\n",
      "  rmses = np.sqrt(-mean_test_scores)\n"
     ]
    }
   ],
   "source": [
    "import numpy as np\n",
    "#Get the CV results\n",
    "cv_results = automl.cv_results_\n",
    "\n",
    "# Get the mean test score for each model\n",
    "mean_test_scores = cv_results['mean_test_score']\n",
    "\n",
    "# Convert to RMSE (as the scores are negated mean squared errors)\n",
    "rmses = np.sqrt(-mean_test_scores)\n",
    "\n",
    "# Get the mean RMSE\n",
    "mean_rmse = np.mean(rmses)\n",
    "\n",
    "print(\"Expected error (mean CV RMSE): \", mean_rmse)"
   ]
  },
  {
   "cell_type": "code",
   "execution_count": 22,
   "metadata": {},
   "outputs": [
    {
     "data": {
      "text/html": [
       "<div>\n",
       "<style scoped>\n",
       "    .dataframe tbody tr th:only-of-type {\n",
       "        vertical-align: middle;\n",
       "    }\n",
       "\n",
       "    .dataframe tbody tr th {\n",
       "        vertical-align: top;\n",
       "    }\n",
       "\n",
       "    .dataframe thead th {\n",
       "        text-align: right;\n",
       "    }\n",
       "</style>\n",
       "<table border=\"1\" class=\"dataframe\">\n",
       "  <thead>\n",
       "    <tr style=\"text-align: right;\">\n",
       "      <th></th>\n",
       "      <th>rank</th>\n",
       "      <th>ensemble_weight</th>\n",
       "      <th>type</th>\n",
       "      <th>cost</th>\n",
       "      <th>duration</th>\n",
       "    </tr>\n",
       "    <tr>\n",
       "      <th>model_id</th>\n",
       "      <th></th>\n",
       "      <th></th>\n",
       "      <th></th>\n",
       "      <th></th>\n",
       "      <th></th>\n",
       "    </tr>\n",
       "  </thead>\n",
       "  <tbody>\n",
       "    <tr>\n",
       "      <th>77</th>\n",
       "      <td>1</td>\n",
       "      <td>0.04</td>\n",
       "      <td>extra_trees</td>\n",
       "      <td>0.817759</td>\n",
       "      <td>44.287058</td>\n",
       "    </tr>\n",
       "    <tr>\n",
       "      <th>69</th>\n",
       "      <td>2</td>\n",
       "      <td>0.22</td>\n",
       "      <td>extra_trees</td>\n",
       "      <td>0.817772</td>\n",
       "      <td>45.218471</td>\n",
       "    </tr>\n",
       "    <tr>\n",
       "      <th>73</th>\n",
       "      <td>3</td>\n",
       "      <td>0.20</td>\n",
       "      <td>adaboost</td>\n",
       "      <td>0.831001</td>\n",
       "      <td>71.883102</td>\n",
       "    </tr>\n",
       "    <tr>\n",
       "      <th>67</th>\n",
       "      <td>4</td>\n",
       "      <td>0.30</td>\n",
       "      <td>gradient_boosting</td>\n",
       "      <td>0.850387</td>\n",
       "      <td>7.990810</td>\n",
       "    </tr>\n",
       "    <tr>\n",
       "      <th>4</th>\n",
       "      <td>5</td>\n",
       "      <td>0.02</td>\n",
       "      <td>liblinear_svr</td>\n",
       "      <td>0.903092</td>\n",
       "      <td>1.878924</td>\n",
       "    </tr>\n",
       "    <tr>\n",
       "      <th>41</th>\n",
       "      <td>6</td>\n",
       "      <td>0.04</td>\n",
       "      <td>gradient_boosting</td>\n",
       "      <td>0.942080</td>\n",
       "      <td>98.599346</td>\n",
       "    </tr>\n",
       "    <tr>\n",
       "      <th>15</th>\n",
       "      <td>7</td>\n",
       "      <td>0.04</td>\n",
       "      <td>libsvm_svr</td>\n",
       "      <td>0.959778</td>\n",
       "      <td>85.107737</td>\n",
       "    </tr>\n",
       "    <tr>\n",
       "      <th>61</th>\n",
       "      <td>8</td>\n",
       "      <td>0.14</td>\n",
       "      <td>decision_tree</td>\n",
       "      <td>0.975067</td>\n",
       "      <td>2.027059</td>\n",
       "    </tr>\n",
       "  </tbody>\n",
       "</table>\n",
       "</div>"
      ],
      "text/plain": [
       "          rank  ensemble_weight               type      cost   duration\n",
       "model_id                                                               \n",
       "77           1             0.04        extra_trees  0.817759  44.287058\n",
       "69           2             0.22        extra_trees  0.817772  45.218471\n",
       "73           3             0.20           adaboost  0.831001  71.883102\n",
       "67           4             0.30  gradient_boosting  0.850387   7.990810\n",
       "4            5             0.02      liblinear_svr  0.903092   1.878924\n",
       "41           6             0.04  gradient_boosting  0.942080  98.599346\n",
       "15           7             0.04         libsvm_svr  0.959778  85.107737\n",
       "61           8             0.14      decision_tree  0.975067   2.027059"
      ]
     },
     "execution_count": 22,
     "metadata": {},
     "output_type": "execute_result"
    }
   ],
   "source": [
    "automl.leaderboard()\n"
   ]
  }
 ],
 "metadata": {
  "kernelspec": {
   "display_name": "Python 3",
   "language": "python",
   "name": "python3"
  },
  "language_info": {
   "codemirror_mode": {
    "name": "ipython",
    "version": 3
   },
   "file_extension": ".py",
   "mimetype": "text/x-python",
   "name": "python",
   "nbconvert_exporter": "python",
   "pygments_lexer": "ipython3",
   "version": "3.9.19"
  }
 },
 "nbformat": 4,
 "nbformat_minor": 2
}
